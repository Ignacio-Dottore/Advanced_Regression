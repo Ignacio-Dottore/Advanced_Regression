{
 "cells": [
  {
   "cell_type": "code",
   "execution_count": 4,
   "metadata": {
    "vscode": {
     "languageId": "r"
    }
   },
   "outputs": [
    {
     "name": "stderr",
     "output_type": "stream",
     "text": [
      "\n",
      "Attaching package: 'data.table'\n",
      "\n",
      "\n",
      "The following objects are masked from 'package:reshape2':\n",
      "\n",
      "    dcast, melt\n",
      "\n",
      "\n",
      "The following object is masked from 'package:purrr':\n",
      "\n",
      "    transpose\n",
      "\n",
      "\n",
      "The following objects are masked from 'package:dplyr':\n",
      "\n",
      "    between, first, last\n",
      "\n",
      "\n"
     ]
    }
   ],
   "source": [
    "library(readxl)#lectura\n",
    "library(dplyr) #manipulacion de datos\n",
    "library(kableExtra) #tablas\n",
    "library(ggplot2) #graficos\n",
    "library(tidyverse) #manipulacion de datos\n",
    "library(ggpubr) #para juntar\n",
    "library(ggforce) # grafico de violin y jitter\n",
    "library(GGally) # ggpairs\n",
    "library(corrplot) # para correlogramas\n",
    "library(ggbeeswarm)\n",
    "library(gridExtra)\n",
    "library(sos)\n",
    "library(data.table)\n",
    "library(scales)\n",
    "library(readr)\n",
    "library(ggcorrplot)\n",
    "library(gridExtra)  \n",
    "library(reshape2)\n",
    "library(modeest)\n",
    "library(magrittr)\n",
    "library(MASS)  \n",
    "library(plyr)\n",
    "library(ggcorrplot)\n",
    "library(moments)\n",
    "library(knitr)\n",
    "library(fmsb)\n",
    "library(psych)\n",
    "library(caret)\n",
    "library(graphics)\n",
    "library(cowplot)\n",
    "library(rpart)\n",
    "library(rpart.plot)\n",
    "library(randomForest)\n",
    "library(C50)\n",
    "library(rJava)\n",
    "library(RWeka)\n",
    "library(party)\n",
    "library(partykit)\n",
    "library(C50)\n",
    "library(yardstick)\n",
    "library(cvms)\n",
    "library(tibble) \n",
    "library(ROCR)"
   ]
  },
  {
   "cell_type": "code",
   "execution_count": 7,
   "metadata": {
    "vscode": {
     "languageId": "r"
    }
   },
   "outputs": [
    {
     "ename": "ERROR",
     "evalue": "Error in read.excel(\"H:/Mi unidad/AUSTRAL/MATERIAS/REGRESION AVANZADA/PRACTICA/TP 1/anscombe.xlsx\"): could not find function \"read.excel\"\n",
     "output_type": "error",
     "traceback": [
      "Error in read.excel(\"H:/Mi unidad/AUSTRAL/MATERIAS/REGRESION AVANZADA/PRACTICA/TP 1/anscombe.xlsx\"): could not find function \"read.excel\"\nTraceback:\n"
     ]
    }
   ],
   "source": [
    "df read.excel(\"H:/Mi unidad/AUSTRAL/MATERIAS/REGRESION AVANZADA/PRACTICA/TP 1/anscombe.xlsx\")"
   ]
  },
  {
   "cell_type": "code",
   "execution_count": null,
   "metadata": {
    "vscode": {
     "languageId": "r"
    }
   },
   "outputs": [],
   "source": []
  }
 ],
 "metadata": {
  "kernelspec": {
   "display_name": "R",
   "language": "R",
   "name": "ir"
  },
  "language_info": {
   "codemirror_mode": "r",
   "file_extension": ".r",
   "mimetype": "text/x-r-source",
   "name": "R",
   "pygments_lexer": "r",
   "version": "4.2.3"
  },
  "orig_nbformat": 4
 },
 "nbformat": 4,
 "nbformat_minor": 2
}
